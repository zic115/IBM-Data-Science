{
 "cells": [
  {
   "cell_type": "markdown",
   "id": "79cdab1d",
   "metadata": {},
   "source": [
    "# Tools for Data Science - Peer-graded Assignment"
   ]
  },
  {
   "cell_type": "markdown",
   "id": "8b7b0daa",
   "metadata": {},
   "source": [
    "This jupyter notebook is used for completing exercises of the peer-graded assignment. Thank you so much for your feedbacks!"
   ]
  },
  {
   "cell_type": "markdown",
   "id": "6207f1c4",
   "metadata": {},
   "source": [
    "**Objectives:**\n",
    "- List data science languages.\n",
    "- List data science libraries.\n",
    "- Create a table of Data Science tools.\n",
    "- Introduce arithmetic expression examples, such as multiply, add and divide (convert minutes to hours)."
   ]
  },
  {
   "cell_type": "markdown",
   "id": "865ba1fa",
   "metadata": {},
   "source": [
    "Some of the popular languages that Data Scientists use are:\n",
    "1. Python\n",
    "2. SQL\n",
    "3. R\n",
    "4. Java\n",
    "5. Scala"
   ]
  },
  {
   "cell_type": "markdown",
   "id": "69d8b444",
   "metadata": {},
   "source": [
    "Some of the commonly used libraries used by Data Scientists include:\n",
    "1. Pandas\n",
    "2. Numpy\n",
    "3. Seaborn\n",
    "4. Matplotlib\n",
    "5. ggplot"
   ]
  },
  {
   "cell_type": "markdown",
   "id": "ea758209",
   "metadata": {},
   "source": [
    "| Data Science Tools |\n",
    "| - |\n",
    "| MySQL |\n",
    "| PostgreSQL |\n",
    "| MongoDB |\n",
    "| Apache Hadoop |\n",
    "| Apache Spark |"
   ]
  },
  {
   "cell_type": "markdown",
   "id": "e7256053",
   "metadata": {},
   "source": [
    "### Below are a few examples of evaluating arithmetic expressions in Python:"
   ]
  },
  {
   "cell_type": "code",
   "execution_count": 1,
   "id": "06992e7c",
   "metadata": {},
   "outputs": [
    {
     "data": {
      "text/plain": [
       "509"
      ]
     },
     "execution_count": 1,
     "metadata": {},
     "output_type": "execute_result"
    }
   ],
   "source": [
    "# This a simple arithmetic expression to mutiply then add integers\n",
    "18 * 23 + 95"
   ]
  },
  {
   "cell_type": "code",
   "execution_count": 2,
   "id": "c600c317",
   "metadata": {},
   "outputs": [
    {
     "name": "stdout",
     "output_type": "stream",
     "text": [
      "95 minutes equals 1.5833333333333333 hours.\n"
     ]
    }
   ],
   "source": [
    "# This will convert 95 minutes to hours by diving by 60\n",
    "hrs = 95 / 60\n",
    "print('95 minutes equals', hrs, 'hours.')"
   ]
  },
  {
   "cell_type": "markdown",
   "id": "53f886f3",
   "metadata": {},
   "source": [
    "## Author\n",
    "Bella"
   ]
  }
 ],
 "metadata": {
  "kernelspec": {
   "display_name": "Python 3 (ipykernel)",
   "language": "python",
   "name": "python3"
  },
  "language_info": {
   "codemirror_mode": {
    "name": "ipython",
    "version": 3
   },
   "file_extension": ".py",
   "mimetype": "text/x-python",
   "name": "python",
   "nbconvert_exporter": "python",
   "pygments_lexer": "ipython3",
   "version": "3.9.12"
  }
 },
 "nbformat": 4,
 "nbformat_minor": 5
}
